{
 "cells": [
  {
   "cell_type": "code",
   "execution_count": 1,
   "id": "47c39bcf",
   "metadata": {
    "_cell_guid": "b1076dfc-b9ad-4769-8c92-a6c4dae69d19",
    "_uuid": "8f2839f25d086af736a60e9eeb907d3b93b6e0e5",
    "execution": {
     "iopub.execute_input": "2024-12-02T07:02:31.036249Z",
     "iopub.status.busy": "2024-12-02T07:02:31.035503Z",
     "iopub.status.idle": "2024-12-02T07:02:32.345615Z",
     "shell.execute_reply": "2024-12-02T07:02:32.344603Z"
    },
    "papermill": {
     "duration": 1.317876,
     "end_time": "2024-12-02T07:02:32.348291",
     "exception": false,
     "start_time": "2024-12-02T07:02:31.030415",
     "status": "completed"
    },
    "tags": []
   },
   "outputs": [
    {
     "name": "stdout",
     "output_type": "stream",
     "text": [
      "/kaggle/input/nlp-mental-health-conversations/train.csv\n",
      "First 5 rows of the dataset:\n",
      "                                             Context  \\\n",
      "0  I'm going through some things with my feelings...   \n",
      "1  I'm going through some things with my feelings...   \n",
      "2  I'm going through some things with my feelings...   \n",
      "3  I'm going through some things with my feelings...   \n",
      "4  I'm going through some things with my feelings...   \n",
      "\n",
      "                                            Response  \n",
      "0  If everyone thinks you're worthless, then mayb...  \n",
      "1  Hello, and thank you for your question and see...  \n",
      "2  First thing I'd suggest is getting the sleep y...  \n",
      "3  Therapy is essential for those that are feelin...  \n",
      "4  I first want to let you know that you are not ...  \n",
      "\n",
      "Dataset description:\n",
      "                                                  Context  \\\n",
      "count                                                3512   \n",
      "unique                                                995   \n",
      "top     I have so many issues to address. I have a his...   \n",
      "freq                                                   94   \n",
      "\n",
      "                                                 Response  \n",
      "count                                                3508  \n",
      "unique                                               2479  \n",
      "top     It's normal to feel a little anxiety--after al...  \n",
      "freq                                                    3  \n",
      "\n",
      "Dataset info:\n",
      "<class 'pandas.core.frame.DataFrame'>\n",
      "RangeIndex: 3512 entries, 0 to 3511\n",
      "Data columns (total 2 columns):\n",
      " #   Column    Non-Null Count  Dtype \n",
      "---  ------    --------------  ----- \n",
      " 0   Context   3512 non-null   object\n",
      " 1   Response  3508 non-null   object\n",
      "dtypes: object(2)\n",
      "memory usage: 55.0+ KB\n",
      "\n",
      "Missing values per column:\n",
      "Context     0\n",
      "Response    4\n",
      "dtype: int64\n",
      "\n",
      "After dropping missing values:\n",
      "Context     0\n",
      "Response    0\n",
      "dtype: int64\n",
      "object\n",
      "0    If everyone thinks you're worthless, then mayb...\n",
      "1    Hello, and thank you for your question and see...\n",
      "2    First thing I'd suggest is getting the sleep y...\n",
      "3    Therapy is essential for those that are feelin...\n",
      "4    I first want to let you know that you are not ...\n",
      "Name: Response, dtype: object\n",
      "Response\n",
      "<class 'str'>    3508\n",
      "Name: count, dtype: int64\n"
     ]
    }
   ],
   "source": [
    "# This Python 3 environment comes with many helpful analytics libraries installed\n",
    "# It is defined by the kaggle/python Docker image: https://github.com/kaggle/docker-python\n",
    "# For example, here's several helpful packages to load\n",
    "\n",
    "import numpy as np  # linear algebra\n",
    "import pandas as pd  # data processing, CSV file I/O (e.g. pd.read_csv)\n",
    "import re\n",
    "import os\n",
    "\n",
    "# List all files in the Kaggle input directory\n",
    "for dirname, _, filenames in os.walk('/kaggle/input'):\n",
    "    for filename in filenames:\n",
    "        print(os.path.join(dirname, filename))\n",
    "\n",
    "# Read the CSV file into a DataFrame\n",
    "df = pd.read_csv(\"/kaggle/input/nlp-mental-health-conversations/train.csv\")\n",
    "\n",
    "# Display the first 5 rows of the DataFrame\n",
    "print(\"First 5 rows of the dataset:\")\n",
    "print(df.head())\n",
    "\n",
    "# Display dataset statistics\n",
    "print(\"\\nDataset description:\")\n",
    "print(df.describe())\n",
    "\n",
    "# Display dataset info\n",
    "print(\"\\nDataset info:\")\n",
    "df.info()\n",
    "\n",
    "# Check for missing values\n",
    "print(\"\\nMissing values per column:\")\n",
    "print(df.isnull().sum())\n",
    "\n",
    "# Drop missing values and update the DataFrame\n",
    "df.dropna(inplace=True)\n",
    "\n",
    "print(\"\\nAfter dropping missing values:\")\n",
    "print(df.isnull().sum())\n",
    "\n",
    "print(df['Response'].dtype)\n",
    "print(df['Response'].head())\n",
    "print(df['Response'].apply(type).value_counts())\n",
    "\n",
    "\n",
    "def clean_text(text):\n",
    "    return re.sub(r'[^A-Za-z0-9\\s.,!?]', '', text)\n",
    "\n",
    "\n",
    "df['Context'] = df['Context'].apply(clean_text)\n",
    "df['Response'] = df['Response'].apply(clean_text)\n"
   ]
  },
  {
   "cell_type": "code",
   "execution_count": 2,
   "id": "2387f564",
   "metadata": {
    "execution": {
     "iopub.execute_input": "2024-12-02T07:02:32.354828Z",
     "iopub.status.busy": "2024-12-02T07:02:32.354448Z",
     "iopub.status.idle": "2024-12-02T07:02:35.285520Z",
     "shell.execute_reply": "2024-12-02T07:02:35.284217Z"
    },
    "papermill": {
     "duration": 2.937196,
     "end_time": "2024-12-02T07:02:35.288133",
     "exception": false,
     "start_time": "2024-12-02T07:02:32.350937",
     "status": "completed"
    },
    "tags": []
   },
   "outputs": [
    {
     "name": "stdout",
     "output_type": "stream",
     "text": [
      "       Context_length  Response_length\n",
      "count     3508.000000      3508.000000\n",
      "mean       280.117161      1019.235177\n",
      "std        244.034843       979.249012\n",
      "min         25.000000         1.000000\n",
      "25%        142.000000       530.000000\n",
      "50%        230.000000       828.500000\n",
      "75%        346.000000      1262.000000\n",
      "max       2671.000000     31485.000000\n"
     ]
    },
    {
     "name": "stderr",
     "output_type": "stream",
     "text": [
      "/opt/conda/lib/python3.10/site-packages/seaborn/_oldcore.py:1119: FutureWarning: use_inf_as_na option is deprecated and will be removed in a future version. Convert inf values to NaN before operating instead.\n",
      "  with pd.option_context('mode.use_inf_as_na', True):\n",
      "/opt/conda/lib/python3.10/site-packages/seaborn/_oldcore.py:1119: FutureWarning: use_inf_as_na option is deprecated and will be removed in a future version. Convert inf values to NaN before operating instead.\n",
      "  with pd.option_context('mode.use_inf_as_na', True):\n"
     ]
    },
    {
     "data": {
      "image/png": "[encoded data removed]",
      "text/plain": [
       "<Figure size 640x480 with 1 Axes>"
      ]
     },
     "metadata": {},
     "output_type": "display_data"
    }
   ],
   "source": [
    "df['Context_length'] = df['Context'].apply(len)\n",
    "df['Response_length'] = df['Response'].apply(len)\n",
    "\n",
    "# Summary statistics\n",
    "print(df[['Context_length', 'Response_length']].describe())\n",
    "\n",
    "# Visualization\n",
    "import seaborn as sns\n",
    "import matplotlib.pyplot as plt\n",
    "\n",
    "sns.histplot(df['Context_length'], kde=True, color='blue', label='Context Length')\n",
    "sns.histplot(df['Response_length'], kde=True, color='orange', label='Response Length')\n",
    "plt.legend()\n",
    "plt.xlim(0, 5000)#limited the text lenth till 5000\n",
    "plt.title('Distribution of Text Lengths')\n",
    "plt.show()\n"
   ]
  },
  {
   "cell_type": "code",
   "execution_count": 3,
   "id": "005f80d8",
   "metadata": {
    "execution": {
     "iopub.execute_input": "2024-12-02T07:02:35.296530Z",
     "iopub.status.busy": "2024-12-02T07:02:35.295976Z",
     "iopub.status.idle": "2024-12-02T07:02:36.189623Z",
     "shell.execute_reply": "2024-12-02T07:02:36.187996Z"
    },
    "papermill": {
     "duration": 0.900829,
     "end_time": "2024-12-02T07:02:36.192419",
     "exception": false,
     "start_time": "2024-12-02T07:02:35.291590",
     "status": "completed"
    },
    "tags": []
   },
   "outputs": [
    {
     "name": "stdout",
     "output_type": "stream",
     "text": [
      "Most common words in Context:\n",
      "['anxiety' 'counseling' 'dont' 'feel' 'help' 'im' 'ive' 'just' 'know'\n",
      " 'life' 'like' 'love' 'people' 'really' 'relationship' 'things' 'think'\n",
      " 'time' 'want' 'years']\n",
      "Most common words in Response:\n",
      "['dont' 'feel' 'feeling' 'good' 'help' 'know' 'life' 'like' 'make' 'need'\n",
      " 'people' 'person' 'relationship' 'therapist' 'things' 'time' 'want' 'way'\n",
      " 'work' 'youre']\n"
     ]
    }
   ],
   "source": [
    "from sklearn.feature_extraction.text import CountVectorizer\n",
    "\n",
    "vectorizer = CountVectorizer(stop_words='english', max_features=20)#this eleminates most common words in english kike is and and \n",
    "context_ngrams = vectorizer.fit_transform(df['Context'])#unique words are collected from the sentences used here\n",
    "print(\"Most common words in Context:\")\n",
    "print(vectorizer.get_feature_names_out())\n",
    "\n",
    "response_ngrams = vectorizer.fit_transform(df['Response'])\n",
    "print(\"Most common words in Response:\")\n",
    "print(vectorizer.get_feature_names_out())\n"
   ]
  },
  {
   "cell_type": "code",
   "execution_count": null,
   "id": "a386d997",
   "metadata": {
    "execution": {
     "iopub.execute_input": "2024-11-27T06:10:40.187111Z",
     "iopub.status.busy": "2024-11-27T06:10:40.186641Z",
     "iopub.status.idle": "2024-11-27T06:10:40.193345Z",
     "shell.execute_reply": "2024-11-27T06:10:40.192091Z",
     "shell.execute_reply.started": "2024-11-27T06:10:40.187064Z"
    },
    "papermill": {
     "duration": 0.003113,
     "end_time": "2024-12-02T07:02:36.199112",
     "exception": false,
     "start_time": "2024-12-02T07:02:36.195999",
     "status": "completed"
    },
    "tags": []
   },
   "outputs": [],
   "source": []
  }
 ],
 "metadata": {
  "kaggle": {
   "accelerator": "none",
   "dataSources": [
    {
     "datasetId": 4054274,
     "sourceId": 7045630,
     "sourceType": "datasetVersion"
    }
   ],
   "dockerImageVersionId": 30786,
   "isGpuEnabled": false,
   "isInternetEnabled": false,
   "language": "python",
   "sourceType": "notebook"
  },
  "kernelspec": {
   "display_name": "Python 3",
   "language": "python",
   "name": "python3"
  },
  "language_info": {
   "codemirror_mode": {
    "name": "ipython",
    "version": 3
   },
   "file_extension": ".py",
   "mimetype": "text/x-python",
   "name": "python",
   "nbconvert_exporter": "python",
   "pygments_lexer": "ipython3",
   "version": "3.10.14"
  },
  "papermill": {
   "default_parameters": {},
   "duration": 8.660135,
   "end_time": "2024-12-02T07:02:36.826633",
   "environment_variables": {},
   "exception": null,
   "input_path": "__notebook__.ipynb",
   "output_path": "__notebook__.ipynb",
   "parameters": {},
   "start_time": "2024-12-02T07:02:28.166498",
   "version": "2.6.0"
  }
 },
 "nbformat": 4,
 "nbformat_minor": 5
}
